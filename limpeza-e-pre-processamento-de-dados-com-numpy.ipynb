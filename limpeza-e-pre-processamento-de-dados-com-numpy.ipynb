{
 "cells": [
  {
   "cell_type": "markdown",
   "id": "29cad13e",
   "metadata": {},
   "source": [
    "###### by Anderson Paiva [Linkedin](https://www.linkedin.com/in/anderson-paiva/)/[Github](https://github.com/And3rson-Paiva)"
   ]
  },
  {
   "cell_type": "markdown",
   "id": "af701f6b",
   "metadata": {},
   "source": [
    "# Limpeza e Pré-Processamento de Dados com Numpy"
   ]
  },
  {
   "cell_type": "markdown",
   "id": "04e17e70",
   "metadata": {},
   "source": [
    "<div align=\"center\">\n",
    "    <img width=600 title=\"titulo da imagem\" src=\"Data%20processing-bro.png\"/>\n",
    "<div>\n"
   ]
  },
  {
   "cell_type": "markdown",
   "id": "ebb4e70b",
   "metadata": {},
   "source": [
    "# Estudo de caso"
   ]
  },
  {
   "cell_type": "markdown",
   "id": "70edf0ef",
   "metadata": {},
   "source": [
    "Para  este  projeto trabalhei  com  dados  reais  disponíveis  publicamente  no \n",
    "link: https://www.openintro.org/data/index.php?data=loans_full_schema"
   ]
  },
  {
   "cell_type": "markdown",
   "id": "ddcef30d",
   "metadata": {},
   "source": [
    "Imagine que em um determinado projeto de Ciência de Dados que você receba um dataset extremamente complicado, \n",
    "contendo dados com muitas strings, caracteres especiais, problemas de encoding, datas mal formatadas, \n",
    "números e textos na mesma  coluna, url’s contendo Ids importantes para análise, valores ausentes, \n",
    "coluna que contém informação que deveria estar distribuída em três ou mais colunas. "
   ]
  },
  {
   "cell_type": "markdown",
   "id": "372cb633",
   "metadata": {},
   "source": [
    "<div align=\"center\">\n",
    "    <img width=600 title=\"titulo da imagem\" src=\"nuvem_de_palavras1.jpg\"/>\n",
    "<div>"
   ]
  },
  {
   "cell_type": "markdown",
   "id": "f1590b7a",
   "metadata": {},
   "source": [
    "E como se não bastasse tudo isso, parte dos dados necessários para análise está em outro dataset,\n",
    "que deve ser combinado com o primeiro."
   ]
  },
  {
   "cell_type": "markdown",
   "id": "baad7c51",
   "metadata": {},
   "source": [
    "<div align=\"center\">\n",
    "    <img width=400 title=\"titulo da imagem\" src=\"4966816c313ceed673d885ba61bacea1.jpg\"/>\n",
    "<div>"
   ]
  },
  {
   "cell_type": "markdown",
   "id": "9657fec7",
   "metadata": {},
   "source": [
    "É exatamente este cenário que estou reproduzindo nesse projeto.\n",
    "A partir de dados complexos e com diversos problemas, iremos fazer um extenso trabalho de \n",
    "limpeza e pré-processamento. E tudo isso usando apenas o **NumPy**, poderoso pacote \n",
    "para computação e processamento de dados."
   ]
  },
  {
   "cell_type": "markdown",
   "id": "492b002d",
   "metadata": {},
   "source": [
    "\n",
    "O conjunto de dados que vou trabalhar representa milhares de empréstimos feitos  por  meio  da plataforma  Lending  Club, que é uma plataforma que permite que indivíduos emprestem para outros indivíduos.\n",
    "\n",
    "Claro, nem todos os empréstimos são iguais. Alguém que fornece um baixo risco e que provavelmente vai pagar um empréstimo terá mais facilidade em obter um empréstimo com uma taxa de juros baixa do que alguém que parece ser mais arriscado.\n",
    "\n",
    "E para as pessoas com alto risco de não pagar o empréstimo? \n",
    "\n",
    "Essas pessoas podem nem receber uma oferta de empréstimo, ou podem não aceitar uma oferta de empréstimo devido a uma alta taxa de juros. \n",
    "**É importante ter em mente essa última parte, pois esse conjunto de dados representa  apenas  empréstimos efetivamente  feitos,  ou  seja,  não  confundir  esses  dados  com pedidos de empréstimo!**\n",
    "\n",
    "Além  disso  usei  um  dataset  com  cotação  do  dólar  em  relação  ao  Euro.  \n",
    "Extraí uma pequena amostra de dados do site: https://finance.yahoo.com"
   ]
  },
  {
   "cell_type": "markdown",
   "id": "2cfaa909",
   "metadata": {},
   "source": [
    "**Pacote Python utilizado nesse projeto**\n",
    "<div align=\"center\">\n",
    "    <img width=400 title=\"titulo da imagem\" src=\"índice.png\"/>\n",
    "<div>"
   ]
  },
  {
   "cell_type": "code",
   "execution_count": 705,
   "id": "bf98b6d2",
   "metadata": {},
   "outputs": [],
   "source": [
    "# imports do projeto\n",
    "from platform import python_version\n",
    "import warnings\n",
    "import numpy as np\n",
    "\n",
    "# Ignora avisos de warnings\n",
    "warnings.filterwarnings('ignore')"
   ]
  },
  {
   "cell_type": "code",
   "execution_count": 706,
   "id": "9e1a5d53",
   "metadata": {},
   "outputs": [
    {
     "name": "stdout",
     "output_type": "stream",
     "text": [
      "Author: Anderson Paiva\n",
      "\n",
      "numpy: 1.23.4\n",
      "\n"
     ]
    }
   ],
   "source": [
    "# versão dos pacotes instalados neste notebook\n",
    "%reload_ext watermark\n",
    "%watermark  -a \"Anderson Paiva\" --iversions"
   ]
  },
  {
   "cell_type": "code",
   "execution_count": 707,
   "id": "f5a95012",
   "metadata": {},
   "outputs": [
    {
     "name": "stdout",
     "output_type": "stream",
     "text": [
      "Versão Python 3.9.2\n"
     ]
    }
   ],
   "source": [
    "print(f\"Versão Python {python_version()}\")"
   ]
  },
  {
   "cell_type": "code",
   "execution_count": 708,
   "id": "394d9f16",
   "metadata": {},
   "outputs": [],
   "source": [
    "# Configuração de impressão do Numpy\n",
    "np.set_printoptions(suppress = True, linewidth = 200, precision = 2)"
   ]
  },
  {
   "cell_type": "markdown",
   "id": "ec4a0e76",
   "metadata": {},
   "source": [
    "# Carregando o dataset"
   ]
  },
  {
   "cell_type": "code",
   "execution_count": 709,
   "id": "d7e3123c",
   "metadata": {},
   "outputs": [],
   "source": [
    "dados = np.genfromtxt(\n",
    "    'dataset1.csv',\n",
    "    delimiter = ';',\n",
    "    skip_header = 1,\n",
    "    autostrip = True,\n",
    "    encoding = 'cp1252'\n",
    ")"
   ]
  },
  {
   "cell_type": "code",
   "execution_count": 710,
   "id": "7871c56d",
   "metadata": {},
   "outputs": [
    {
     "data": {
      "text/plain": [
       "numpy.ndarray"
      ]
     },
     "execution_count": 710,
     "metadata": {},
     "output_type": "execute_result"
    }
   ],
   "source": [
    "# tipo de dado\n",
    "type(dados)"
   ]
  },
  {
   "cell_type": "code",
   "execution_count": 711,
   "id": "be96c6a0",
   "metadata": {},
   "outputs": [
    {
     "data": {
      "text/plain": [
       "(10000, 14)"
      ]
     },
     "execution_count": 711,
     "metadata": {},
     "output_type": "execute_result"
    }
   ],
   "source": [
    "# formato do dados\n",
    "dados.shape"
   ]
  },
  {
   "cell_type": "code",
   "execution_count": 712,
   "id": "8b191d59",
   "metadata": {},
   "outputs": [
    {
     "data": {
      "text/plain": [
       "array([[48010226.  ,         nan,    35000.  , ...,         nan,         nan,     9452.96],\n",
       "       [57693261.  ,         nan,    30000.  , ...,         nan,         nan,     4679.7 ],\n",
       "       [59432726.  ,         nan,    15000.  , ...,         nan,         nan,     1969.83],\n",
       "       ...,\n",
       "       [50415990.  ,         nan,    10000.  , ...,         nan,         nan,     2185.64],\n",
       "       [46154151.  ,         nan,         nan, ...,         nan,         nan,     3199.4 ],\n",
       "       [66055249.  ,         nan,    10000.  , ...,         nan,         nan,      301.9 ]])"
      ]
     },
     "execution_count": 712,
     "metadata": {},
     "output_type": "execute_result"
    }
   ],
   "source": [
    "# Visualização dos dados.\n",
    "# Já encontramos um erro, o nan no dataset (valores ausentes), esse valor \n",
    "# foi gerado pelo próprio numpy que não reconheceu alguns caracteres especiais no conjunto de dados \n",
    "# e a forma como o numpy carrega dados do tipo string e númerico.\n",
    "# Ou seja, o problema não esta nos dados em si, mas sim na forma \n",
    "# como o numpy carregou o dataset.\n",
    "dados.view()"
   ]
  },
  {
   "cell_type": "markdown",
   "id": "87249531",
   "metadata": {},
   "source": [
    "# Verificando valores ausentes"
   ]
  },
  {
   "cell_type": "code",
   "execution_count": 713,
   "id": "a45fc6be",
   "metadata": {},
   "outputs": [
    {
     "data": {
      "text/plain": [
       "88005"
      ]
     },
     "execution_count": 713,
     "metadata": {},
     "output_type": "execute_result"
    }
   ],
   "source": [
    "# total de valores ausentes\n",
    "np.isnan(dados).sum()"
   ]
  },
  {
   "cell_type": "code",
   "execution_count": 714,
   "id": "08d54f48",
   "metadata": {},
   "outputs": [
    {
     "name": "stdout",
     "output_type": "stream",
     "text": [
      "68616520.0\n"
     ]
    }
   ],
   "source": [
    "# retornando o maior valor no conjunto de dados ignorando valores nan\n",
    "# usei esse valor arbitrário para preencher os valores ausentes na carga de dados numéricos\n",
    "# mais a frente esses dados seram tratados como ausentes.\n",
    "valor_coringa = np.nanmax(dados) + 1\n",
    "print(valor_coringa)"
   ]
  },
  {
   "cell_type": "code",
   "execution_count": 715,
   "id": "cd01b500",
   "metadata": {},
   "outputs": [
    {
     "name": "stdout",
     "output_type": "stream",
     "text": [
      "[54015809.19         nan    15273.46         nan    15311.04         nan       16.62      440.92         nan         nan         nan         nan         nan     3143.85]\n"
     ]
    }
   ],
   "source": [
    "# calculo da média ignorando valor nan por coluna\n",
    "# será usado para separar variáveis numéricas e variáveis do tipo string\n",
    "media_ignorando_nan = np.nanmean(dados, axis = 0)\n",
    "print(media_ignorando_nan)"
   ]
  },
  {
   "cell_type": "code",
   "execution_count": 716,
   "id": "a85e178c",
   "metadata": {},
   "outputs": [
    {
     "name": "stdout",
     "output_type": "stream",
     "text": [
      "[ 1  3  5  8  9 10 11 12]\n"
     ]
    }
   ],
   "source": [
    "# colunas do tipo string com valores ausentes\n",
    "colunas_string = np.argwhere(np.isnan(media_ignorando_nan)).squeeze()\n",
    "print(colunas_string)"
   ]
  },
  {
   "cell_type": "code",
   "execution_count": 717,
   "id": "141cfb11",
   "metadata": {},
   "outputs": [
    {
     "name": "stdout",
     "output_type": "stream",
     "text": [
      "[ 0  2  4  6  7 13]\n"
     ]
    }
   ],
   "source": [
    "# colunas numéricas\n",
    "colunas_numericas = np.argwhere(np.isnan(media_ignorando_nan) == False).squeeze()\n",
    "print(colunas_numericas)"
   ]
  },
  {
   "cell_type": "markdown",
   "id": "0cd4f052",
   "metadata": {},
   "source": [
    "### Importando novamente os dados, agora de forma separada as colunas do tipo string e as colunas do tipo numéricas"
   ]
  },
  {
   "cell_type": "code",
   "execution_count": 718,
   "id": "c33b2cfe",
   "metadata": {},
   "outputs": [],
   "source": [
    "arr_strings = np.genfromtxt(\n",
    "    'dataset1.csv',\n",
    "    delimiter = ';',\n",
    "    skip_header = 1,\n",
    "    autostrip = True,\n",
    "    usecols = colunas_string,\n",
    "    dtype = str,\n",
    "    encoding = 'cp1252'\n",
    ")"
   ]
  },
  {
   "cell_type": "code",
   "execution_count": 719,
   "id": "a36c571e",
   "metadata": {},
   "outputs": [
    {
     "name": "stdout",
     "output_type": "stream",
     "text": [
      "[['May-15' 'Current' '36 months' ... 'Verified' 'https://www.lendingclub.com/browse/loanDetail.action?loan_id=48010226' 'CA']\n",
      " ['' 'Current' '36 months' ... 'Source Verified' 'https://www.lendingclub.com/browse/loanDetail.action?loan_id=57693261' 'NY']\n",
      " ['Sep-15' 'Current' '36 months' ... 'Verified' 'https://www.lendingclub.com/browse/loanDetail.action?loan_id=59432726' 'PA']\n",
      " ...\n",
      " ['Jun-15' 'Current' '36 months' ... 'Source Verified' 'https://www.lendingclub.com/browse/loanDetail.action?loan_id=50415990' 'CA']\n",
      " ['Apr-15' 'Current' '36 months' ... 'Source Verified' 'https://www.lendingclub.com/browse/loanDetail.action?loan_id=46154151' 'OH']\n",
      " ['Dec-15' 'Current' '36 months' ... '' 'https://www.lendingclub.com/browse/loanDetail.action?loan_id=66055249' 'IL']]\n"
     ]
    }
   ],
   "source": [
    "print(arr_strings)"
   ]
  },
  {
   "cell_type": "code",
   "execution_count": 720,
   "id": "041bfd9a",
   "metadata": {},
   "outputs": [],
   "source": [
    "arr_numeric = np.genfromtxt(\n",
    "    'dataset1.csv',\n",
    "    delimiter = ';',\n",
    "    skip_header = 1,\n",
    "    autostrip = True,\n",
    "    usecols = colunas_numericas,\n",
    "    filling_values = valor_coringa,\n",
    "    dtype = int,\n",
    "    encoding = 'cp1252'\n",
    ")"
   ]
  },
  {
   "cell_type": "code",
   "execution_count": 721,
   "id": "f01c8db4",
   "metadata": {},
   "outputs": [
    {
     "name": "stdout",
     "output_type": "stream",
     "text": [
      "[[48010226 68616520 68616520 68616520 68616520 68616520]\n",
      " [57693261 68616520 68616520 68616520 68616520 68616520]\n",
      " [59432726 68616520 68616520 68616520 68616520 68616520]\n",
      " ...\n",
      " [50415990 68616520 68616520 68616520 68616520 68616520]\n",
      " [46154151 68616520 68616520 68616520 68616520 68616520]\n",
      " [66055249 68616520 68616520 68616520 68616520 68616520]]\n"
     ]
    }
   ],
   "source": [
    "print(arr_numeric)"
   ]
  },
  {
   "cell_type": "markdown",
   "id": "2bad6754",
   "metadata": {},
   "source": [
    "#### Agora vou extrair o nome das colunas"
   ]
  },
  {
   "cell_type": "code",
   "execution_count": 722,
   "id": "a18ffa30",
   "metadata": {},
   "outputs": [],
   "source": [
    "arr_nomes_colunas = np.genfromtxt(\n",
    "    'dataset1.csv',\n",
    "    delimiter = ';',\n",
    "    autostrip = True,\n",
    "    skip_footer = dados.shape[0],\n",
    "    dtype = str,\n",
    "    encoding = 'cp1252'\n",
    ")"
   ]
  },
  {
   "cell_type": "code",
   "execution_count": 723,
   "id": "9639e72e",
   "metadata": {},
   "outputs": [
    {
     "name": "stdout",
     "output_type": "stream",
     "text": [
      "['id' 'issue_d' 'loan_amnt' 'loan_status' 'funded_amnt' 'term' 'int_rate' 'installment' 'grade' 'sub_grade' 'verification_status' 'url' 'addr_state' 'total_pymnt']\n"
     ]
    }
   ],
   "source": [
    "print(arr_nomes_colunas)"
   ]
  },
  {
   "cell_type": "code",
   "execution_count": 724,
   "id": "053d20a4",
   "metadata": {},
   "outputs": [],
   "source": [
    "# Separando o cabeçalho de colunas string e numéricas\n",
    "header_string, header_numeric = arr_nomes_colunas[colunas_string], arr_nomes_colunas[colunas_numericas]"
   ]
  },
  {
   "cell_type": "code",
   "execution_count": 725,
   "id": "8f0044e8",
   "metadata": {},
   "outputs": [
    {
     "name": "stdout",
     "output_type": "stream",
     "text": [
      "['issue_d' 'loan_status' 'term' 'grade' 'sub_grade' 'verification_status' 'url' 'addr_state']\n"
     ]
    }
   ],
   "source": [
    "print(header_string)"
   ]
  },
  {
   "cell_type": "code",
   "execution_count": 726,
   "id": "fb2f3a6e",
   "metadata": {},
   "outputs": [
    {
     "name": "stdout",
     "output_type": "stream",
     "text": [
      "['id' 'loan_amnt' 'funded_amnt' 'int_rate' 'installment' 'total_pymnt']\n"
     ]
    }
   ],
   "source": [
    "print(header_numeric)"
   ]
  },
  {
   "cell_type": "markdown",
   "id": "01729f08",
   "metadata": {},
   "source": [
    "# Função Checkpoint"
   ]
  },
  {
   "cell_type": "code",
   "execution_count": 727,
   "id": "88820b0f",
   "metadata": {},
   "outputs": [],
   "source": [
    "# resolvi criar uma função para gerar um checkpoint e salvar os dados gerados até o momento\n",
    "def checkpoint(file_name, checkpoint_header, checkpoint_data):\n",
    "    np.savez(file_name, header = checkpoint_header, data = checkpoint_data)\n",
    "    checkpoint_variable = np.load(file_name + \".npz\")\n",
    "    return (checkpoint_variable)"
   ]
  },
  {
   "cell_type": "code",
   "execution_count": 728,
   "id": "2746dcc4",
   "metadata": {},
   "outputs": [],
   "source": [
    "check_point_inicial = checkpoint(\"Checkpoint_inicial\", header_string, arr_strings)"
   ]
  },
  {
   "cell_type": "code",
   "execution_count": 729,
   "id": "c5c13e52",
   "metadata": {},
   "outputs": [
    {
     "data": {
      "text/plain": [
       "array([['May-15', 'Current', '36 months', ..., 'Verified', 'https://www.lendingclub.com/browse/loanDetail.action?loan_id=48010226', 'CA'],\n",
       "       ['', 'Current', '36 months', ..., 'Source Verified', 'https://www.lendingclub.com/browse/loanDetail.action?loan_id=57693261', 'NY'],\n",
       "       ['Sep-15', 'Current', '36 months', ..., 'Verified', 'https://www.lendingclub.com/browse/loanDetail.action?loan_id=59432726', 'PA'],\n",
       "       ...,\n",
       "       ['Jun-15', 'Current', '36 months', ..., 'Source Verified', 'https://www.lendingclub.com/browse/loanDetail.action?loan_id=50415990', 'CA'],\n",
       "       ['Apr-15', 'Current', '36 months', ..., 'Source Verified', 'https://www.lendingclub.com/browse/loanDetail.action?loan_id=46154151', 'OH'],\n",
       "       ['Dec-15', 'Current', '36 months', ..., '', 'https://www.lendingclub.com/browse/loanDetail.action?loan_id=66055249', 'IL']], dtype='<U69')"
      ]
     },
     "execution_count": 729,
     "metadata": {},
     "output_type": "execute_result"
    }
   ],
   "source": [
    "# checkpoint criado\n",
    "check_point_inicial['data']"
   ]
  },
  {
   "cell_type": "code",
   "execution_count": 730,
   "id": "e667cc72",
   "metadata": {},
   "outputs": [
    {
     "data": {
      "text/plain": [
       "True"
      ]
     },
     "execution_count": 730,
     "metadata": {},
     "output_type": "execute_result"
    }
   ],
   "source": [
    "# comparando se o checkpoint é igual ao array de strings\n",
    "np.array_equal(check_point_inicial['data'], arr_strings)"
   ]
  },
  {
   "cell_type": "markdown",
   "id": "d419d940",
   "metadata": {},
   "source": [
    "# Manipulando as colunas do tipo string"
   ]
  },
  {
   "cell_type": "code",
   "execution_count": 731,
   "id": "a620e308",
   "metadata": {},
   "outputs": [
    {
     "data": {
      "text/plain": [
       "array(['issue_d', 'loan_status', 'term', 'grade', 'sub_grade', 'verification_status', 'url', 'addr_state'], dtype='<U19')"
      ]
     },
     "execution_count": 731,
     "metadata": {},
     "output_type": "execute_result"
    }
   ],
   "source": [
    "# 8 colunas categoricas\n",
    "header_string"
   ]
  },
  {
   "cell_type": "code",
   "execution_count": 732,
   "id": "ef74f51f",
   "metadata": {},
   "outputs": [],
   "source": [
    "# vou ajustar o nome da coluna para facilitar a identificação\n",
    "header_string[0] = \"issue_date\""
   ]
  },
  {
   "cell_type": "code",
   "execution_count": 733,
   "id": "be848fdf",
   "metadata": {},
   "outputs": [
    {
     "data": {
      "text/plain": [
       "array(['issue_date', 'loan_status', 'term', 'grade', 'sub_grade', 'verification_status', 'url', 'addr_state'], dtype='<U19')"
      ]
     },
     "execution_count": 733,
     "metadata": {},
     "output_type": "execute_result"
    }
   ],
   "source": [
    "# nome da coluna modificado no array\n",
    "header_string"
   ]
  },
  {
   "cell_type": "markdown",
   "id": "23ef402a",
   "metadata": {},
   "source": [
    "# Pré-Processamento da variável issue_date com Label Encoding"
   ]
  },
  {
   "cell_type": "code",
   "execution_count": 734,
   "id": "86913b15",
   "metadata": {},
   "outputs": [
    {
     "data": {
      "text/plain": [
       "array(['', 'Apr-15', 'Aug-15', 'Dec-15', 'Feb-15', 'Jan-15', 'Jul-15', 'Jun-15', 'Mar-15', 'May-15', 'Nov-15', 'Oct-15', 'Sep-15'], dtype='<U69')"
      ]
     },
     "execution_count": 734,
     "metadata": {},
     "output_type": "execute_result"
    }
   ],
   "source": [
    "# extrai os valores únicos da variável\n",
    "np.unique(arr_strings[:, 0])"
   ]
  },
  {
   "cell_type": "code",
   "execution_count": 735,
   "id": "0609f59a",
   "metadata": {},
   "outputs": [],
   "source": [
    "# removi o sufixo -15 e fiz a conversão em um array de string para posteriormente\n",
    "# aplicar a técnica de label encoding\n",
    "arr_strings[:, 0] = np.chararray.strip(arr_strings[:, 0], \"-15\")"
   ]
  },
  {
   "cell_type": "code",
   "execution_count": 736,
   "id": "0a42c83f",
   "metadata": {},
   "outputs": [
    {
     "data": {
      "text/plain": [
       "array(['', 'Apr', 'Aug', 'Dec', 'Feb', 'Jan', 'Jul', 'Jun', 'Mar', 'May', 'Nov', 'Oct', 'Sep'], dtype='<U69')"
      ]
     },
     "execution_count": 736,
     "metadata": {},
     "output_type": "execute_result"
    }
   ],
   "source": [
    "# visualização dos dados únicos da variável já modificada\n",
    "np.unique(arr_strings[:, 0])"
   ]
  },
  {
   "cell_type": "code",
   "execution_count": 737,
   "id": "b6189ab5",
   "metadata": {},
   "outputs": [],
   "source": [
    "# criei um array de meses considerando o valor vazio para o que estiver em branco\n",
    "meses = np.array(['', 'Jan', 'Feb', 'Mar', 'Apr', 'May', 'Jun', 'Jul', 'Aug', 'Sep', 'Oct', 'Nov', 'Dec'])"
   ]
  },
  {
   "cell_type": "code",
   "execution_count": 738,
   "id": "721bf577",
   "metadata": {},
   "outputs": [],
   "source": [
    "# loop para converter o nome dos meses em valores numéricos\n",
    "# correspondentes, esse processo é chamado de label encoding\n",
    "for i in range(13):\n",
    "    arr_strings[:, 0] = np.where(arr_strings[:, 0] == meses[i], i, arr_strings[:, 0])"
   ]
  },
  {
   "cell_type": "code",
   "execution_count": 739,
   "id": "404547ce",
   "metadata": {},
   "outputs": [
    {
     "data": {
      "text/plain": [
       "array(['0', '1', '10', '11', '12', '2', '3', '4', '5', '6', '7', '8', '9'], dtype='<U69')"
      ]
     },
     "execution_count": 739,
     "metadata": {},
     "output_type": "execute_result"
    }
   ],
   "source": [
    "# verificando os valores após a conversão\n",
    "np.unique(arr_strings[:, 0])"
   ]
  },
  {
   "cell_type": "markdown",
   "id": "83b62c72",
   "metadata": {},
   "source": [
    "# Pré-Processamento da variável loan_status com Binarização"
   ]
  },
  {
   "cell_type": "code",
   "execution_count": 740,
   "id": "8da3c2e8",
   "metadata": {},
   "outputs": [
    {
     "data": {
      "text/plain": [
       "array(['issue_date', 'loan_status', 'term', 'grade', 'sub_grade', 'verification_status', 'url', 'addr_state'], dtype='<U19')"
      ]
     },
     "execution_count": 740,
     "metadata": {},
     "output_type": "execute_result"
    }
   ],
   "source": [
    "header_string"
   ]
  },
  {
   "cell_type": "code",
   "execution_count": 741,
   "id": "cf2b766e",
   "metadata": {},
   "outputs": [
    {
     "data": {
      "text/plain": [
       "array(['', 'Charged Off', 'Current', 'Default', 'Fully Paid', 'In Grace Period', 'Issued', 'Late (16-30 days)', 'Late (31-120 days)'], dtype='<U69')"
      ]
     },
     "execution_count": 741,
     "metadata": {},
     "output_type": "execute_result"
    }
   ],
   "source": [
    "# extraindo valores unicos\n",
    "np.unique(arr_strings[:, 1])"
   ]
  },
  {
   "cell_type": "code",
   "execution_count": 742,
   "id": "b5053128",
   "metadata": {},
   "outputs": [
    {
     "data": {
      "text/plain": [
       "9"
      ]
     },
     "execution_count": 742,
     "metadata": {},
     "output_type": "execute_result"
    }
   ],
   "source": [
    "# número de elementos/categorias/status\n",
    "np.unique(arr_strings[:, 1]).size"
   ]
  },
  {
   "cell_type": "code",
   "execution_count": 743,
   "id": "a08a3f77",
   "metadata": {},
   "outputs": [],
   "source": [
    "# no caso resolvi utilizar somente 3 elementos disponíveis, pois de acordo com a nossa are de \"negócio\" não seria\n",
    "# necessário utilizar todos os elementos disponíveis para gerar o resultado esperado.\n",
    "# Criei então um array com os 3 elementos.\n",
    "status_bad = np.array(['', 'Charged Off', 'Default', 'Late (16-30 days)'])"
   ]
  },
  {
   "cell_type": "code",
   "execution_count": 744,
   "id": "2d1d25a7",
   "metadata": {},
   "outputs": [],
   "source": [
    "# faço a checagem dos valores da variável e comparo com o valor da variável anterior, convertendo a variável para\n",
    "# valor binário, esse processo é chamado de Binarização.\n",
    "arr_strings[:, 1] = np.where(np.isin(arr_strings[:, 1], status_bad), 0, 1)"
   ]
  },
  {
   "cell_type": "code",
   "execution_count": 745,
   "id": "cad9362d",
   "metadata": {},
   "outputs": [
    {
     "data": {
      "text/plain": [
       "array(['0', '1'], dtype='<U69')"
      ]
     },
     "execution_count": 745,
     "metadata": {},
     "output_type": "execute_result"
    }
   ],
   "source": [
    "# extraindo valores unicos da variável\n",
    "# 0 (zero) será a classe negativa e 1 (um) será a classe positiva\n",
    "np.unique(arr_strings[:, 1])"
   ]
  },
  {
   "cell_type": "markdown",
   "id": "23f0b09d",
   "metadata": {},
   "source": [
    "# Pré-Processamento da variável term com limpeza de string"
   ]
  },
  {
   "cell_type": "code",
   "execution_count": 746,
   "id": "35641bcb",
   "metadata": {},
   "outputs": [
    {
     "data": {
      "text/plain": [
       "array(['issue_date', 'loan_status', 'term', 'grade', 'sub_grade', 'verification_status', 'url', 'addr_state'], dtype='<U19')"
      ]
     },
     "execution_count": 746,
     "metadata": {},
     "output_type": "execute_result"
    }
   ],
   "source": [
    "header_string"
   ]
  },
  {
   "cell_type": "code",
   "execution_count": 747,
   "id": "4f2d478c",
   "metadata": {},
   "outputs": [
    {
     "data": {
      "text/plain": [
       "array(['', '36 months', '60 months'], dtype='<U69')"
      ]
     },
     "execution_count": 747,
     "metadata": {},
     "output_type": "execute_result"
    }
   ],
   "source": [
    "# extraindo valores unicos\n",
    "np.unique(arr_strings[:, 2])"
   ]
  },
  {
   "cell_type": "code",
   "execution_count": 748,
   "id": "3ec1bd43",
   "metadata": {},
   "outputs": [
    {
     "data": {
      "text/plain": [
       "array(['36', '36', '36', ..., '36', '36', '36'], dtype='<U69')"
      ]
     },
     "execution_count": 748,
     "metadata": {},
     "output_type": "execute_result"
    }
   ],
   "source": [
    "# removendo a palavra months ()\n",
    "arr_strings[:, 2] = np.chararray.strip(arr_strings[:, 2], \" months\")\n",
    "arr_strings[:, 2]"
   ]
  },
  {
   "cell_type": "code",
   "execution_count": 749,
   "id": "cdc0b9cf",
   "metadata": {},
   "outputs": [],
   "source": [
    "# mudando o titulo da variável\n",
    "header_string[2] = \"term_months\""
   ]
  },
  {
   "cell_type": "code",
   "execution_count": 750,
   "id": "2b632249",
   "metadata": {},
   "outputs": [],
   "source": [
    "# Subistitui os valores ausentes pelo maior valor, que no meu caso é 60.\n",
    "# Escolhi esse valor (60) dado o fato de não ter a informação correta da \"area de negócios\".\n",
    "arr_strings[:, 2] = np.where(arr_strings[:, 2] == \"\", '60', arr_strings[:, 2])"
   ]
  },
  {
   "cell_type": "code",
   "execution_count": 751,
   "id": "722d62e5",
   "metadata": {},
   "outputs": [
    {
     "data": {
      "text/plain": [
       "array(['36', '60'], dtype='<U69')"
      ]
     },
     "execution_count": 751,
     "metadata": {},
     "output_type": "execute_result"
    }
   ],
   "source": [
    "# extraindo valores unicos da variável\n",
    "np.unique(arr_strings[:, 2])"
   ]
  },
  {
   "cell_type": "markdown",
   "id": "d79507d4",
   "metadata": {},
   "source": [
    "### Pré-Processamento das variáveis grade e sub_grade com dicionário (Tipo de label Encoding)"
   ]
  },
  {
   "cell_type": "code",
   "execution_count": 752,
   "id": "9f96bf67",
   "metadata": {},
   "outputs": [
    {
     "data": {
      "text/plain": [
       "array(['issue_date', 'loan_status', 'term_months', 'grade', 'sub_grade', 'verification_status', 'url', 'addr_state'], dtype='<U19')"
      ]
     },
     "execution_count": 752,
     "metadata": {},
     "output_type": "execute_result"
    }
   ],
   "source": [
    "header_string"
   ]
  },
  {
   "cell_type": "code",
   "execution_count": 753,
   "id": "3dde9d72",
   "metadata": {},
   "outputs": [
    {
     "data": {
      "text/plain": [
       "array(['', 'A', 'B', 'C', 'D', 'E', 'F', 'G'], dtype='<U69')"
      ]
     },
     "execution_count": 753,
     "metadata": {},
     "output_type": "execute_result"
    }
   ],
   "source": [
    "# Extrai os valores unicos da variável\n",
    "np.unique(arr_strings[:, 3])"
   ]
  },
  {
   "cell_type": "code",
   "execution_count": 754,
   "id": "4d9a1e0d",
   "metadata": {},
   "outputs": [
    {
     "data": {
      "text/plain": [
       "array(['', 'A1', 'A2', 'A3', 'A4', 'A5', 'B1', 'B2', 'B3', 'B4', 'B5', 'C1', 'C2', 'C3', 'C4', 'C5', 'D1', 'D2', 'D3', 'D4', 'D5', 'E1', 'E2', 'E3', 'E4', 'E5', 'F1', 'F2', 'F3', 'F4', 'F5', 'G1',\n",
       "       'G2', 'G3', 'G4', 'G5'], dtype='<U69')"
      ]
     },
     "execution_count": 754,
     "metadata": {},
     "output_type": "execute_result"
    }
   ],
   "source": [
    "# Extrai os valores unicos da variável\n",
    "np.unique(arr_strings[:, 4])"
   ]
  },
  {
   "cell_type": "markdown",
   "id": "b88b911e",
   "metadata": {},
   "source": [
    "#### Vou ajustar a variável sub_grade por um único motivo, ela tem mais detalhes e parece ser melhor para o processo"
   ]
  },
  {
   "cell_type": "code",
   "execution_count": 755,
   "id": "456d1e01",
   "metadata": {},
   "outputs": [
    {
     "data": {
      "text/plain": [
       "array(['', 'A', 'B', 'C', 'D', 'E', 'F', 'G'], dtype='<U69')"
      ]
     },
     "execution_count": 755,
     "metadata": {},
     "output_type": "execute_result"
    }
   ],
   "source": [
    "np.unique(arr_strings[:, 3])"
   ]
  },
  {
   "cell_type": "code",
   "execution_count": 756,
   "id": "19e0b272",
   "metadata": {},
   "outputs": [
    {
     "data": {
      "text/plain": [
       "array(['A', 'B', 'C', 'D', 'E', 'F', 'G'], dtype='<U69')"
      ]
     },
     "execution_count": 756,
     "metadata": {},
     "output_type": "execute_result"
    }
   ],
   "source": [
    "np.unique(arr_strings[:, 3])[1:]"
   ]
  },
  {
   "cell_type": "code",
   "execution_count": 757,
   "id": "4dd5e024",
   "metadata": {},
   "outputs": [],
   "source": [
    "# loop para ajuste da variável sub_grade\n",
    "for i in np.unique(arr_strings[:, 3])[1:]:\n",
    "    arr_strings[:, 4] = np.where((arr_strings[:, 4] == '') & (arr_strings[:, 3] == i), i + '5', arr_strings[:, 4])"
   ]
  },
  {
   "cell_type": "code",
   "execution_count": 758,
   "id": "46bfd4fd",
   "metadata": {},
   "outputs": [
    {
     "data": {
      "text/plain": [
       "(array(['', 'A1', 'A2', 'A3', 'A4', 'A5', 'B1', 'B2', 'B3', 'B4', 'B5', 'C1', 'C2', 'C3', 'C4', 'C5', 'D1', 'D2', 'D3', 'D4', 'D5', 'E1', 'E2', 'E3', 'E4', 'E5', 'F1', 'F2', 'F3', 'F4', 'F5', 'G1',\n",
       "        'G2', 'G3', 'G4', 'G5'], dtype='<U69'),\n",
       " array([  9, 285, 278, 239, 323, 592, 509, 517, 530, 553, 633, 629, 567, 586, 564, 577, 391, 267, 250, 255, 288, 235, 162, 171, 139, 160,  94,  52,  34,  43,  24,  19,  10,   3,   7,   5]))"
      ]
     },
     "execution_count": 758,
     "metadata": {},
     "output_type": "execute_result"
    }
   ],
   "source": [
    "# retorna a categoria e sua respectiva contagem\n",
    "np.unique(arr_strings[:, 4], return_counts = True)"
   ]
  },
  {
   "cell_type": "code",
   "execution_count": 759,
   "id": "0f06e46c",
   "metadata": {},
   "outputs": [],
   "source": [
    "# Subistitui valores ausentes por uma nova categoria\n",
    "arr_strings[:, 4] = np.where(arr_strings[:, 4] == '', 'H1', arr_strings[:, 4])"
   ]
  },
  {
   "cell_type": "code",
   "execution_count": 760,
   "id": "a46d8a46",
   "metadata": {},
   "outputs": [
    {
     "data": {
      "text/plain": [
       "array(['A1', 'A2', 'A3', 'A4', 'A5', 'B1', 'B2', 'B3', 'B4', 'B5', 'C1', 'C2', 'C3', 'C4', 'C5', 'D1', 'D2', 'D3', 'D4', 'D5', 'E1', 'E2', 'E3', 'E4', 'E5', 'F1', 'F2', 'F3', 'F4', 'F5', 'G1', 'G2',\n",
       "       'G3', 'G4', 'G5', 'H1'], dtype='<U69')"
      ]
     },
     "execution_count": 760,
     "metadata": {},
     "output_type": "execute_result"
    }
   ],
   "source": [
    "# Extrai os valores unicos da variável\n",
    "np.unique(arr_strings[:, 4])"
   ]
  },
  {
   "cell_type": "markdown",
   "id": "a6d79c72",
   "metadata": {},
   "source": [
    "#### Vou remover a variável grade"
   ]
  },
  {
   "cell_type": "code",
   "execution_count": 761,
   "id": "3888a8cf",
   "metadata": {},
   "outputs": [],
   "source": [
    "# essa variável não é mais necessária no processo já que escolhi usar a variável sub_grade\n",
    "arr_strings = np.delete(arr_strings, 3, axis = 1)"
   ]
  },
  {
   "cell_type": "code",
   "execution_count": 762,
   "id": "34cd07d1",
   "metadata": {},
   "outputs": [
    {
     "data": {
      "text/plain": [
       "array(['C3', 'A5', 'B5', ..., 'A5', 'D2', 'A4'], dtype='<U69')"
      ]
     },
     "execution_count": 762,
     "metadata": {},
     "output_type": "execute_result"
    }
   ],
   "source": [
    "# após deletar a variável grade, a variável sub_grade passa a ocupar o indice da que foi deletada\n",
    "arr_strings[:, 3]"
   ]
  },
  {
   "cell_type": "code",
   "execution_count": 763,
   "id": "8c77a993",
   "metadata": {},
   "outputs": [],
   "source": [
    "# Nesse caso removi o nome da coluna do array de nome de colunas\n",
    "header_string = np.delete(header_string, 3)"
   ]
  },
  {
   "cell_type": "code",
   "execution_count": 764,
   "id": "dfbe8fd7",
   "metadata": {},
   "outputs": [
    {
     "data": {
      "text/plain": [
       "'sub_grade'"
      ]
     },
     "execution_count": 764,
     "metadata": {},
     "output_type": "execute_result"
    }
   ],
   "source": [
    "# Nova variávrel na coluna de índice 3\n",
    "header_string[3]"
   ]
  },
  {
   "cell_type": "markdown",
   "id": "6b7499a7",
   "metadata": {},
   "source": [
    "#### Por fim, vou converter a variável sub_grade para sua representação numérica"
   ]
  },
  {
   "cell_type": "code",
   "execution_count": 765,
   "id": "4ecd5418",
   "metadata": {},
   "outputs": [
    {
     "data": {
      "text/plain": [
       "array(['A1', 'A2', 'A3', 'A4', 'A5', 'B1', 'B2', 'B3', 'B4', 'B5', 'C1', 'C2', 'C3', 'C4', 'C5', 'D1', 'D2', 'D3', 'D4', 'D5', 'E1', 'E2', 'E3', 'E4', 'E5', 'F1', 'F2', 'F3', 'F4', 'F5', 'G1', 'G2',\n",
       "       'G3', 'G4', 'G5', 'H1'], dtype='<U69')"
      ]
     },
     "execution_count": 765,
     "metadata": {},
     "output_type": "execute_result"
    }
   ],
   "source": [
    "# Extrai os valores únicos da variável\n",
    "np.unique(arr_strings[:, 3])"
   ]
  },
  {
   "cell_type": "code",
   "execution_count": 766,
   "id": "cf5a6f27",
   "metadata": {},
   "outputs": [
    {
     "data": {
      "text/plain": [
       "'A1'"
      ]
     },
     "execution_count": 766,
     "metadata": {},
     "output_type": "execute_result"
    }
   ],
   "source": [
    "# Cria uma lista de chaves\n",
    "keys = list(np.unique(arr_strings[:, 3]))\n",
    "keys[0]"
   ]
  },
  {
   "cell_type": "code",
   "execution_count": 767,
   "id": "77bd9561",
   "metadata": {},
   "outputs": [
    {
     "data": {
      "text/plain": [
       "1"
      ]
     },
     "execution_count": 767,
     "metadata": {},
     "output_type": "execute_result"
    }
   ],
   "source": [
    "# Cria uma lista de valores\n",
    "values = list(range(1, np.unique(arr_strings[:, 3]).shape[0] + 1))\n",
    "values[0]"
   ]
  },
  {
   "cell_type": "code",
   "execution_count": 768,
   "id": "70fd1dac",
   "metadata": {},
   "outputs": [
    {
     "data": {
      "text/plain": [
       "{'A1': 1,\n",
       " 'A2': 2,\n",
       " 'A3': 3,\n",
       " 'A4': 4,\n",
       " 'A5': 5,\n",
       " 'B1': 6,\n",
       " 'B2': 7,\n",
       " 'B3': 8,\n",
       " 'B4': 9,\n",
       " 'B5': 10,\n",
       " 'C1': 11,\n",
       " 'C2': 12,\n",
       " 'C3': 13,\n",
       " 'C4': 14,\n",
       " 'C5': 15,\n",
       " 'D1': 16,\n",
       " 'D2': 17,\n",
       " 'D3': 18,\n",
       " 'D4': 19,\n",
       " 'D5': 20,\n",
       " 'E1': 21,\n",
       " 'E2': 22,\n",
       " 'E3': 23,\n",
       " 'E4': 24,\n",
       " 'E5': 25,\n",
       " 'F1': 26,\n",
       " 'F2': 27,\n",
       " 'F3': 28,\n",
       " 'F4': 29,\n",
       " 'F5': 30,\n",
       " 'G1': 31,\n",
       " 'G2': 32,\n",
       " 'G3': 33,\n",
       " 'G4': 34,\n",
       " 'G5': 35,\n",
       " 'H1': 36}"
      ]
     },
     "execution_count": 768,
     "metadata": {},
     "output_type": "execute_result"
    }
   ],
   "source": [
    "# Criando o dicionário\n",
    "dict_sub_grade = dict(zip(keys, values))\n",
    "dict_sub_grade"
   ]
  },
  {
   "cell_type": "code",
   "execution_count": 769,
   "id": "0fb8a4e2",
   "metadata": {},
   "outputs": [],
   "source": [
    "# loop para substituir a string com as categoria pela representação numérica (frequência)\n",
    "for i in np.unique(arr_strings[:, 3]):\n",
    "    arr_strings[:, 3] = np.where(arr_strings[:, 3] == i, dict_sub_grade[i], arr_strings[:, 3])"
   ]
  },
  {
   "cell_type": "code",
   "execution_count": 770,
   "id": "28508df3",
   "metadata": {},
   "outputs": [
    {
     "data": {
      "text/plain": [
       "array(['1', '10', '11', '12', '13', '14', '15', '16', '17', '18', '19', '2', '20', '21', '22', '23', '24', '25', '26', '27', '28', '29', '3', '30', '31', '32', '33', '34', '35', '36', '4', '5', '6',\n",
       "       '7', '8', '9'], dtype='<U69')"
      ]
     },
     "execution_count": 770,
     "metadata": {},
     "output_type": "execute_result"
    }
   ],
   "source": [
    "# Extrai o valor único das variáveis\n",
    "np.unique(arr_strings[:, 3])"
   ]
  },
  {
   "cell_type": "markdown",
   "id": "59213ce0",
   "metadata": {},
   "source": [
    "# Pré-Processamento da variável verification status com binarização"
   ]
  },
  {
   "cell_type": "code",
   "execution_count": 771,
   "id": "46ac00d6",
   "metadata": {},
   "outputs": [
    {
     "data": {
      "text/plain": [
       "array(['issue_date', 'loan_status', 'term_months', 'sub_grade', 'verification_status', 'url', 'addr_state'], dtype='<U19')"
      ]
     },
     "execution_count": 771,
     "metadata": {},
     "output_type": "execute_result"
    }
   ],
   "source": [
    "# lista com os nomes das variáveis\n",
    "header_string"
   ]
  },
  {
   "cell_type": "code",
   "execution_count": 772,
   "id": "c1e52ecd",
   "metadata": {},
   "outputs": [
    {
     "data": {
      "text/plain": [
       "array(['', 'Not Verified', 'Source Verified', 'Verified'], dtype='<U69')"
      ]
     },
     "execution_count": 772,
     "metadata": {},
     "output_type": "execute_result"
    }
   ],
   "source": [
    "# Extrai valores únicos das variáveis\n",
    "np.unique(arr_strings[:, 4])"
   ]
  },
  {
   "cell_type": "code",
   "execution_count": 773,
   "id": "2914c4b0",
   "metadata": {},
   "outputs": [],
   "source": [
    "# Utilizei a binarização nessa variável\n",
    "# 0 (zero) é a categoria negativa Not Verified e 1 (um) a categoria positiva Verified/Source Verified\n",
    "arr_strings[:, 4] = np.where((arr_strings[:, 4] == '') | (arr_strings[:, 4] == 'Not Verified'), 0, 1)"
   ]
  },
  {
   "cell_type": "code",
   "execution_count": 774,
   "id": "13353253",
   "metadata": {},
   "outputs": [
    {
     "data": {
      "text/plain": [
       "array(['0', '1'], dtype='<U69')"
      ]
     },
     "execution_count": 774,
     "metadata": {},
     "output_type": "execute_result"
    }
   ],
   "source": [
    "# Extrai os valortes únicos da variável\n",
    "np.unique(arr_strings[:, 4])"
   ]
  },
  {
   "cell_type": "markdown",
   "id": "8d1e27a4",
   "metadata": {},
   "source": [
    "# Pré-Processamento da variável url com a extração de ID"
   ]
  },
  {
   "cell_type": "code",
   "execution_count": 775,
   "id": "19916cf9",
   "metadata": {},
   "outputs": [
    {
     "data": {
      "text/plain": [
       "array(['https://www.lendingclub.com/browse/loanDetail.action?loan_id=48010226', 'https://www.lendingclub.com/browse/loanDetail.action?loan_id=57693261',\n",
       "       'https://www.lendingclub.com/browse/loanDetail.action?loan_id=59432726', ..., 'https://www.lendingclub.com/browse/loanDetail.action?loan_id=50415990',\n",
       "       'https://www.lendingclub.com/browse/loanDetail.action?loan_id=46154151', 'https://www.lendingclub.com/browse/loanDetail.action?loan_id=66055249'], dtype='<U69')"
      ]
     },
     "execution_count": 775,
     "metadata": {},
     "output_type": "execute_result"
    }
   ],
   "source": [
    "# visualiza a amostra dos dados\n",
    "arr_strings[:, 5]"
   ]
  },
  {
   "cell_type": "code",
   "execution_count": 776,
   "id": "2e4120aa",
   "metadata": {},
   "outputs": [
    {
     "data": {
      "text/plain": [
       "chararray(['48010226', '57693261', '59432726', ..., '50415990', '46154151', '66055249'], dtype='<U69')"
      ]
     },
     "execution_count": 776,
     "metadata": {},
     "output_type": "execute_result"
    }
   ],
   "source": [
    "# Extrai o ID ao final de cada url\n",
    "np.chararray.strip(arr_strings[:, 5], 'https://www.lendingclub.com/browse/loanDetail.action?loan_id=')"
   ]
  },
  {
   "cell_type": "code",
   "execution_count": 777,
   "id": "ae2b46dc",
   "metadata": {},
   "outputs": [],
   "source": [
    "# Substitui a url pelo valor do ID na url\n",
    "arr_strings[:, 5] = np.chararray.strip(arr_strings[:, 5], 'https://www.lendingclub.com/browse/loanDetail.action?loan_id=')"
   ]
  },
  {
   "cell_type": "code",
   "execution_count": 778,
   "id": "4ff51516",
   "metadata": {},
   "outputs": [
    {
     "data": {
      "text/plain": [
       "array([48010226, 57693261, 59432726, ..., 50415990, 46154151, 66055249], dtype=int32)"
      ]
     },
     "execution_count": 778,
     "metadata": {},
     "output_type": "execute_result"
    }
   ],
   "source": [
    "# Convertemos o tipo para int32\n",
    "arr_strings[:, 5].astype(dtype = np.int32)"
   ]
  },
  {
   "cell_type": "code",
   "execution_count": 779,
   "id": "0c10e575",
   "metadata": {},
   "outputs": [
    {
     "data": {
      "text/plain": [
       "array([48010226, 57693261, 59432726, ..., 50415990, 46154151, 66055249], dtype=int32)"
      ]
     },
     "execution_count": 779,
     "metadata": {},
     "output_type": "execute_result"
    }
   ],
   "source": [
    "# Esse ID esta presente na primeira coluna de dados, vou converter para int32 e comparar\n",
    "arr_numeric[:, 0].astype(dtype = np.int32)"
   ]
  },
  {
   "cell_type": "code",
   "execution_count": 780,
   "id": "144095c6",
   "metadata": {},
   "outputs": [
    {
     "data": {
      "text/plain": [
       "True"
      ]
     },
     "execution_count": 780,
     "metadata": {},
     "output_type": "execute_result"
    }
   ],
   "source": [
    "# Verificando se os IDs são iguais, e sim, as duas variáveis são identicas.\n",
    "# O ID extraido da url é igual ao ID que temos no connjunto de dados.\n",
    "np.array_equal(arr_numeric[:, 0].astype(dtype = np.int32), arr_strings[:, 5].astype(dtype = np.int32))"
   ]
  },
  {
   "cell_type": "code",
   "execution_count": 781,
   "id": "dd42c3a8",
   "metadata": {},
   "outputs": [],
   "source": [
    "# Remove do array de dados\n",
    "arr_strings = np.delete(arr_strings, 5, axis = 1)"
   ]
  },
  {
   "cell_type": "code",
   "execution_count": 782,
   "id": "862cd6da",
   "metadata": {},
   "outputs": [],
   "source": [
    "# Remove do array de nome de coluna\n",
    "header_string = np.delete(header_string, 5)"
   ]
  },
  {
   "cell_type": "code",
   "execution_count": 783,
   "id": "e3eb070c",
   "metadata": {},
   "outputs": [
    {
     "data": {
      "text/plain": [
       "array(['CA', 'NY', 'PA', ..., 'CA', 'OH', 'IL'], dtype='<U69')"
      ]
     },
     "execution_count": 783,
     "metadata": {},
     "output_type": "execute_result"
    }
   ],
   "source": [
    "# Nova coluna no indice 5\n",
    "arr_strings[:, 5]"
   ]
  },
  {
   "cell_type": "code",
   "execution_count": 784,
   "id": "faba0a2f",
   "metadata": {},
   "outputs": [
    {
     "data": {
      "text/plain": [
       "array(['issue_date', 'loan_status', 'term_months', 'sub_grade', 'verification_status', 'addr_state'], dtype='<U19')"
      ]
     },
     "execution_count": 784,
     "metadata": {},
     "output_type": "execute_result"
    }
   ],
   "source": [
    "# Nova lista de colunas\n",
    "header_string"
   ]
  },
  {
   "cell_type": "code",
   "execution_count": 785,
   "id": "36be8664",
   "metadata": {},
   "outputs": [
    {
     "data": {
      "text/plain": [
       "array([48010226, 57693261, 59432726, ..., 50415990, 46154151, 66055249])"
      ]
     },
     "execution_count": 785,
     "metadata": {},
     "output_type": "execute_result"
    }
   ],
   "source": [
    "# Coluna ID\n",
    "arr_numeric[:, 0]"
   ]
  },
  {
   "cell_type": "code",
   "execution_count": 786,
   "id": "021b2191",
   "metadata": {},
   "outputs": [
    {
     "data": {
      "text/plain": [
       "array(['id', 'loan_amnt', 'funded_amnt', 'int_rate', 'installment', 'total_pymnt'], dtype='<U19')"
      ]
     },
     "execution_count": 786,
     "metadata": {},
     "output_type": "execute_result"
    }
   ],
   "source": [
    "# Coluna ID agora faz parte do array de numéricos\n",
    "header_numeric"
   ]
  },
  {
   "cell_type": "markdown",
   "id": "417d7717",
   "metadata": {},
   "source": [
    "# Pré-Processamento da variável address com Categorização"
   ]
  },
  {
   "cell_type": "code",
   "execution_count": 787,
   "id": "ecc5f34c",
   "metadata": {},
   "outputs": [
    {
     "data": {
      "text/plain": [
       "array(['issue_date', 'loan_status', 'term_months', 'sub_grade', 'verification_status', 'addr_state'], dtype='<U19')"
      ]
     },
     "execution_count": 787,
     "metadata": {},
     "output_type": "execute_result"
    }
   ],
   "source": [
    "header_string"
   ]
  },
  {
   "cell_type": "code",
   "execution_count": 788,
   "id": "a1b5e25d",
   "metadata": {},
   "outputs": [],
   "source": [
    "# Ajustando o nome da coluna address\n",
    "header_string[5] = \"state_address\""
   ]
  },
  {
   "cell_type": "code",
   "execution_count": 789,
   "id": "fa303fe4",
   "metadata": {},
   "outputs": [],
   "source": [
    "# Extrai nomes e contagens\n",
    "states_name, states_count = np.unique(arr_strings[:, 5], return_counts = True)"
   ]
  },
  {
   "cell_type": "code",
   "execution_count": 790,
   "id": "1426b1b4",
   "metadata": {},
   "outputs": [],
   "source": [
    "# Ordenando em ordem decrescente\n",
    "states_count_sorted = np.argsort(-states_count)"
   ]
  },
  {
   "cell_type": "code",
   "execution_count": 791,
   "id": "44fb2a3f",
   "metadata": {},
   "outputs": [
    {
     "data": {
      "text/plain": [
       "(array(['CA', 'NY', 'TX', 'FL', '', 'IL', 'NJ', 'GA', 'PA', 'OH', 'MI', 'NC', 'VA', 'MD', 'AZ', 'WA', 'MA', 'CO', 'MO', 'MN', 'IN', 'WI', 'CT', 'TN', 'NV', 'AL', 'LA', 'OR', 'SC', 'KY', 'KS', 'OK',\n",
       "        'UT', 'AR', 'MS', 'NH', 'NM', 'WV', 'HI', 'RI', 'MT', 'DE', 'DC', 'WY', 'AK', 'NE', 'SD', 'VT', 'ND', 'ME'], dtype='<U69'),\n",
       " array([1336,  777,  758,  690,  500,  389,  341,  321,  320,  312,  267,  261,  242,  222,  220,  216,  210,  201,  160,  156,  152,  148,  143,  143,  130,  119,  116,  108,  107,   84,   84,   83,\n",
       "          74,   74,   61,   58,   57,   49,   44,   40,   28,   27,   27,   27,   26,   25,   24,   17,   16,   10]))"
      ]
     },
     "execution_count": 791,
     "metadata": {},
     "output_type": "execute_result"
    }
   ],
   "source": [
    "# resultado\n",
    "states_name[states_count_sorted], states_count[states_count_sorted]"
   ]
  },
  {
   "cell_type": "code",
   "execution_count": 792,
   "id": "309d0b7b",
   "metadata": {},
   "outputs": [],
   "source": [
    "# Substituindo valores ausentes por zero (0)\n",
    "arr_strings[:, 5]= np.where(arr_strings[:, 5] == '', 0, arr_strings[:, 5])"
   ]
  },
  {
   "cell_type": "markdown",
   "id": "8d5c1b00",
   "metadata": {},
   "source": [
    "### Separando os estados por regiões"
   ]
  },
  {
   "cell_type": "code",
   "execution_count": 793,
   "id": "35227a73",
   "metadata": {},
   "outputs": [],
   "source": [
    "states_west = np.array(['WA', 'OR','CA','NV','ID','MT', 'WY','UT','CO', 'AZ','NM','HI','AK'])\n",
    "states_south = np.array(['TX','OK','AR','LA','MS','AL','TN','KY','FL','GA','SC','NC','VA','WV','MD','DE','DC'])\n",
    "states_midwest = np.array(['ND','SD','NE','KS','MN','IA','MO','WI','IL','IN','MI','OH'])\n",
    "states_east = np.array(['PA','NY','NJ','CT','MA','VT','NH','ME','RI'])"
   ]
  },
  {
   "cell_type": "code",
   "execution_count": 794,
   "id": "0f96b147",
   "metadata": {},
   "outputs": [],
   "source": [
    "# Agora vou substituir cada estado pelo ID de sua região\n",
    "arr_strings[:,5] = np.where(np.isin(arr_strings[:,5], states_west), 1, arr_strings[:,5])\n",
    "arr_strings[:,5] = np.where(np.isin(arr_strings[:,5], states_south), 2, arr_strings[:,5])\n",
    "arr_strings[:,5] = np.where(np.isin(arr_strings[:,5], states_midwest), 3, arr_strings[:,5])\n",
    "arr_strings[:,5] = np.where(np.isin(arr_strings[:,5], states_east), 4, arr_strings[:,5])"
   ]
  },
  {
   "cell_type": "code",
   "execution_count": 795,
   "id": "cf2bb308",
   "metadata": {},
   "outputs": [
    {
     "data": {
      "text/plain": [
       "array(['0', '1', '2', '3', '4'], dtype='<U69')"
      ]
     },
     "execution_count": 795,
     "metadata": {},
     "output_type": "execute_result"
    }
   ],
   "source": [
    "# Extrai os valores únicos da variável\n",
    "np.unique(arr_strings[:, 5])"
   ]
  },
  {
   "cell_type": "markdown",
   "id": "a5a78c4b",
   "metadata": {},
   "source": [
    "# Convertendo o Array"
   ]
  },
  {
   "cell_type": "code",
   "execution_count": 796,
   "id": "2bdf0c95",
   "metadata": {},
   "outputs": [
    {
     "data": {
      "text/plain": [
       "array([['5', '1', '36', '13', '1', '1'],\n",
       "       ['0', '1', '36', '5', '1', '4'],\n",
       "       ['9', '1', '36', '10', '1', '4'],\n",
       "       ...,\n",
       "       ['6', '1', '36', '5', '1', '1'],\n",
       "       ['4', '1', '36', '17', '1', '3'],\n",
       "       ['12', '1', '36', '4', '0', '3']], dtype='<U69')"
      ]
     },
     "execution_count": 796,
     "metadata": {},
     "output_type": "execute_result"
    }
   ],
   "source": [
    "# Vou modificar o tipo de dado do array abaixo, o array esta usando números mas com formato dos dados errado.\n",
    "arr_strings"
   ]
  },
  {
   "cell_type": "code",
   "execution_count": 797,
   "id": "a9afc8c9",
   "metadata": {},
   "outputs": [],
   "source": [
    "# Agora o array esta no formato correto\n",
    "arr_strings = arr_strings.astype(int)"
   ]
  },
  {
   "cell_type": "code",
   "execution_count": 798,
   "id": "9b600455",
   "metadata": {},
   "outputs": [
    {
     "data": {
      "text/plain": [
       "array([[ 5,  1, 36, 13,  1,  1],\n",
       "       [ 0,  1, 36,  5,  1,  4],\n",
       "       [ 9,  1, 36, 10,  1,  4],\n",
       "       ...,\n",
       "       [ 6,  1, 36,  5,  1,  1],\n",
       "       [ 4,  1, 36, 17,  1,  3],\n",
       "       [12,  1, 36,  4,  0,  3]])"
      ]
     },
     "execution_count": 798,
     "metadata": {},
     "output_type": "execute_result"
    }
   ],
   "source": [
    "arr_strings"
   ]
  },
  {
   "cell_type": "markdown",
   "id": "24b8c786",
   "metadata": {},
   "source": [
    "# Checkpoint com variáveis do tipo string limpas e pré-processadas"
   ]
  },
  {
   "cell_type": "code",
   "execution_count": 799,
   "id": "27f71ec8",
   "metadata": {},
   "outputs": [],
   "source": [
    "# Checkpoint\n",
    "checkpoint_strings = checkpoint(\"Checkpoint-Strings\", header_string, arr_strings)"
   ]
  },
  {
   "cell_type": "code",
   "execution_count": 800,
   "id": "67b0ece1",
   "metadata": {},
   "outputs": [
    {
     "data": {
      "text/plain": [
       "array(['issue_date', 'loan_status', 'term_months', 'sub_grade', 'verification_status', 'state_address'], dtype='<U19')"
      ]
     },
     "execution_count": 800,
     "metadata": {},
     "output_type": "execute_result"
    }
   ],
   "source": [
    "# Cabeçalho\n",
    "checkpoint_strings[\"header\"]"
   ]
  },
  {
   "cell_type": "code",
   "execution_count": 801,
   "id": "fbb3b441",
   "metadata": {},
   "outputs": [
    {
     "data": {
      "text/plain": [
       "array([[ 5,  1, 36, 13,  1,  1],\n",
       "       [ 0,  1, 36,  5,  1,  4],\n",
       "       [ 9,  1, 36, 10,  1,  4],\n",
       "       ...,\n",
       "       [ 6,  1, 36,  5,  1,  1],\n",
       "       [ 4,  1, 36, 17,  1,  3],\n",
       "       [12,  1, 36,  4,  0,  3]])"
      ]
     },
     "execution_count": 801,
     "metadata": {},
     "output_type": "execute_result"
    }
   ],
   "source": [
    "# Os dados\n",
    "checkpoint_strings[\"data\"]"
   ]
  },
  {
   "cell_type": "code",
   "execution_count": 802,
   "id": "bafd38de",
   "metadata": {},
   "outputs": [
    {
     "data": {
      "text/plain": [
       "True"
      ]
     },
     "execution_count": 802,
     "metadata": {},
     "output_type": "execute_result"
    }
   ],
   "source": [
    "# Comparação, se o checkpoint salvo em disco esta igual ao que esta na memória do computador\n",
    "np.array_equal(checkpoint_strings['data'], arr_strings)"
   ]
  },
  {
   "cell_type": "markdown",
   "id": "86d72c03",
   "metadata": {},
   "source": [
    "# Manipulando colunas numéricas"
   ]
  },
  {
   "cell_type": "code",
   "execution_count": 803,
   "id": "a82b4712",
   "metadata": {},
   "outputs": [
    {
     "data": {
      "text/plain": [
       "array([[48010226, 68616520, 68616520, 68616520, 68616520, 68616520],\n",
       "       [57693261, 68616520, 68616520, 68616520, 68616520, 68616520],\n",
       "       [59432726, 68616520, 68616520, 68616520, 68616520, 68616520],\n",
       "       ...,\n",
       "       [50415990, 68616520, 68616520, 68616520, 68616520, 68616520],\n",
       "       [46154151, 68616520, 68616520, 68616520, 68616520, 68616520],\n",
       "       [66055249, 68616520, 68616520, 68616520, 68616520, 68616520]])"
      ]
     },
     "execution_count": 803,
     "metadata": {},
     "output_type": "execute_result"
    }
   ],
   "source": [
    "# Visualizando os dados\n",
    "arr_numeric"
   ]
  },
  {
   "cell_type": "code",
   "execution_count": 804,
   "id": "f94ab36c",
   "metadata": {},
   "outputs": [
    {
     "data": {
      "text/plain": [
       "array(['id', 'loan_amnt', 'funded_amnt', 'int_rate', 'installment', 'total_pymnt'], dtype='<U19')"
      ]
     },
     "execution_count": 804,
     "metadata": {},
     "output_type": "execute_result"
    }
   ],
   "source": [
    "# Nome das colunas\n",
    "header_numeric"
   ]
  },
  {
   "cell_type": "code",
   "execution_count": 805,
   "id": "4e95fc0b",
   "metadata": {},
   "outputs": [
    {
     "data": {
      "text/plain": [
       "0"
      ]
     },
     "execution_count": 805,
     "metadata": {},
     "output_type": "execute_result"
    }
   ],
   "source": [
    "# Agora não temos mais valores ausentes, pois ao carraga os dados usamos um valor arbitrário\n",
    "np.isnan(arr_numeric).sum()"
   ]
  },
  {
   "cell_type": "code",
   "execution_count": 806,
   "id": "4d0259f4",
   "metadata": {},
   "outputs": [
    {
     "data": {
      "text/plain": [
       "array([False, False, False, ..., False, False, False])"
      ]
     },
     "execution_count": 806,
     "metadata": {},
     "output_type": "execute_result"
    }
   ],
   "source": [
    "# Verificando de 2 formas diferentes, se a coluna foi preenchida com o valor coringa\n",
    "np.isin(arr_numeric[:, 0], valor_coringa)"
   ]
  },
  {
   "cell_type": "code",
   "execution_count": 807,
   "id": "d752e875",
   "metadata": {},
   "outputs": [
    {
     "data": {
      "text/plain": [
       "0"
      ]
     },
     "execution_count": 807,
     "metadata": {},
     "output_type": "execute_result"
    }
   ],
   "source": [
    "np.isin(arr_numeric[:, 0], valor_coringa).sum()"
   ]
  },
  {
   "cell_type": "markdown",
   "id": "5b9f4001",
   "metadata": {},
   "source": [
    "#### Agora vou criar um array de estatísticas, especificamente valor mínimo, máximo e média de cada variável. Usaremos isso no tratamento de valores ausentes (preenchidos com o valor coringa)."
   ]
  },
  {
   "cell_type": "code",
   "execution_count": 808,
   "id": "2523dd76",
   "metadata": {},
   "outputs": [],
   "source": [
    "# Criei um array com valor mínimo, média e valor máximo ignorando nan.\n",
    "# Isso será usado no tratamento de valores ausentes\n",
    "arr_stats = np.array([np.nanmin(dados, axis = 0), media_ignorando_nan, np.nanmax(dados, axis = 0)])"
   ]
  },
  {
   "cell_type": "code",
   "execution_count": 809,
   "id": "e37aefe6",
   "metadata": {},
   "outputs": [
    {
     "data": {
      "text/plain": [
       "array([[  373332.  ,         nan,     1000.  ,         nan,     1000.  ,         nan,        6.  ,       31.42,         nan,         nan,         nan,         nan,         nan,        0.  ],\n",
       "       [54015809.19,         nan,    15273.46,         nan,    15311.04,         nan,       16.62,      440.92,         nan,         nan,         nan,         nan,         nan,     3143.85],\n",
       "       [68616519.  ,         nan,    35000.  ,         nan,    35000.  ,         nan,       28.99,     1372.97,         nan,         nan,         nan,         nan,         nan,    41913.62]])"
      ]
     },
     "execution_count": 809,
     "metadata": {},
     "output_type": "execute_result"
    }
   ],
   "source": [
    "arr_stats"
   ]
  },
  {
   "cell_type": "code",
   "execution_count": 810,
   "id": "63337b34",
   "metadata": {},
   "outputs": [
    {
     "data": {
      "text/plain": [
       "array([[  373332.  ,     1000.  ,     1000.  ,        6.  ,       31.42,        0.  ],\n",
       "       [54015809.19,    15273.46,    15311.04,       16.62,      440.92,     3143.85],\n",
       "       [68616519.  ,    35000.  ,    35000.  ,       28.99,     1372.97,    41913.62]])"
      ]
     },
     "execution_count": 810,
     "metadata": {},
     "output_type": "execute_result"
    }
   ],
   "source": [
    "arr_stats[:, colunas_numericas]"
   ]
  },
  {
   "cell_type": "markdown",
   "id": "e1ca2fed",
   "metadata": {},
   "source": [
    "## Pré-Processamento da Variável funded_amnt"
   ]
  },
  {
   "cell_type": "code",
   "execution_count": 811,
   "id": "1b636193",
   "metadata": {},
   "outputs": [
    {
     "data": {
      "text/plain": [
       "array([68616520, 68616520, 68616520, ..., 68616520, 68616520, 68616520])"
      ]
     },
     "execution_count": 811,
     "metadata": {},
     "output_type": "execute_result"
    }
   ],
   "source": [
    "# Visualiza os dados\n",
    "arr_numeric[:,2]"
   ]
  },
  {
   "cell_type": "code",
   "execution_count": 812,
   "id": "f6d02073",
   "metadata": {},
   "outputs": [
    {
     "data": {
      "text/plain": [
       "1000.0"
      ]
     },
     "execution_count": 812,
     "metadata": {},
     "output_type": "execute_result"
    }
   ],
   "source": [
    "arr_stats[0, colunas_numericas[2]]"
   ]
  },
  {
   "cell_type": "code",
   "execution_count": 813,
   "id": "a6376d05",
   "metadata": {},
   "outputs": [],
   "source": [
    "# Ajustando o conteúdo da coluna\n",
    "arr_numeric[:,2] = np.where(arr_numeric[:,2] == valor_coringa, arr_stats[0, colunas_numericas[2]], arr_numeric[:,2])"
   ]
  },
  {
   "cell_type": "code",
   "execution_count": 814,
   "id": "45972f05",
   "metadata": {},
   "outputs": [
    {
     "data": {
      "text/plain": [
       "array([1000, 1000, 1000, ..., 1000, 1000, 1000])"
      ]
     },
     "execution_count": 814,
     "metadata": {},
     "output_type": "execute_result"
    }
   ],
   "source": [
    "arr_numeric[:, 2]"
   ]
  },
  {
   "cell_type": "markdown",
   "id": "e0a65f33",
   "metadata": {},
   "source": [
    "### Pré-Processamento das Variáveis loan_amnt, int_rate, installment e total_pymnt"
   ]
  },
  {
   "cell_type": "code",
   "execution_count": 815,
   "id": "69fb912d",
   "metadata": {},
   "outputs": [
    {
     "data": {
      "text/plain": [
       "array(['id', 'loan_amnt', 'funded_amnt', 'int_rate', 'installment', 'total_pymnt'], dtype='<U19')"
      ]
     },
     "execution_count": 815,
     "metadata": {},
     "output_type": "execute_result"
    }
   ],
   "source": [
    "# Nomes das colunas\n",
    "header_numeric"
   ]
  },
  {
   "cell_type": "code",
   "execution_count": 816,
   "id": "9bf0f7bf",
   "metadata": {},
   "outputs": [],
   "source": [
    "# Loop para substituir o valor ausente (valor_coringa) pelos valores do array de estatísticas\n",
    "for i in [1,3,4,5]:\n",
    "    arr_numeric[:,i] = np.where(arr_numeric[:,i] == valor_coringa, \n",
    "                                arr_stats[2, colunas_numericas[i]], \n",
    "                                arr_numeric[:,i])"
   ]
  },
  {
   "cell_type": "code",
   "execution_count": 817,
   "id": "537ce304",
   "metadata": {},
   "outputs": [
    {
     "data": {
      "text/plain": [
       "array([[48010226,    35000,     1000,       28,     1372,    41913],\n",
       "       [57693261,    35000,     1000,       28,     1372,    41913],\n",
       "       [59432726,    35000,     1000,       28,     1372,    41913],\n",
       "       ...,\n",
       "       [50415990,    35000,     1000,       28,     1372,    41913],\n",
       "       [46154151,    35000,     1000,       28,     1372,    41913],\n",
       "       [66055249,    35000,     1000,       28,     1372,    41913]])"
      ]
     },
     "execution_count": 817,
     "metadata": {},
     "output_type": "execute_result"
    }
   ],
   "source": [
    "# Na prática, retirei o valor coringa e coloquei uma estatística\n",
    "arr_numeric"
   ]
  },
  {
   "cell_type": "markdown",
   "id": "bb762da6",
   "metadata": {},
   "source": [
    "# Trabalhando com o segundo dataset"
   ]
  },
  {
   "cell_type": "code",
   "execution_count": 818,
   "id": "33f71cea",
   "metadata": {},
   "outputs": [],
   "source": [
    "# Carrega o segundo dataset\n",
    "dados_cot = np.genfromtxt(\"dataset2.csv\", \n",
    "                          delimiter = ',', \n",
    "                          autostrip = True, \n",
    "                          skip_header = 1, \n",
    "                          usecols = 3)"
   ]
  },
  {
   "cell_type": "code",
   "execution_count": 819,
   "id": "7d4890cf",
   "metadata": {},
   "outputs": [
    {
     "data": {
      "text/plain": [
       "array([1.13, 1.12, 1.08, 1.11, 1.1 , 1.12, 1.09, 1.13, 1.13, 1.1 , 1.06, 1.09])"
      ]
     },
     "execution_count": 819,
     "metadata": {},
     "output_type": "execute_result"
    }
   ],
   "source": [
    "# Visualiza\n",
    "dados_cot"
   ]
  },
  {
   "cell_type": "code",
   "execution_count": 821,
   "id": "cb2ea375",
   "metadata": {},
   "outputs": [
    {
     "data": {
      "text/plain": [
       "array(['issue_date', 'loan_status', 'term_months', 'sub_grade', 'verification_status', 'state_address'], dtype='<U19')"
      ]
     },
     "execution_count": 821,
     "metadata": {},
     "output_type": "execute_result"
    }
   ],
   "source": [
    "# Nomes de colunas\n",
    "header_string"
   ]
  },
  {
   "cell_type": "code",
   "execution_count": 822,
   "id": "c138c932",
   "metadata": {},
   "outputs": [
    {
     "data": {
      "text/plain": [
       "array([[ 5,  1, 36, 13,  1,  1],\n",
       "       [ 0,  1, 36,  5,  1,  4],\n",
       "       [ 9,  1, 36, 10,  1,  4],\n",
       "       ...,\n",
       "       [ 6,  1, 36,  5,  1,  1],\n",
       "       [ 4,  1, 36, 17,  1,  3],\n",
       "       [12,  1, 36,  4,  0,  3]])"
      ]
     },
     "execution_count": 822,
     "metadata": {},
     "output_type": "execute_result"
    }
   ],
   "source": [
    "# Dados\n",
    "arr_strings"
   ]
  },
  {
   "cell_type": "code",
   "execution_count": 823,
   "id": "3eeecef0",
   "metadata": {},
   "outputs": [
    {
     "data": {
      "text/plain": [
       "array([ 5,  0,  9, ...,  6,  4, 12])"
      ]
     },
     "execution_count": 823,
     "metadata": {},
     "output_type": "execute_result"
    }
   ],
   "source": [
    "# A coluna 0 do array de strings é o mês\n",
    "arr_strings[:,0]"
   ]
  },
  {
   "cell_type": "code",
   "execution_count": 824,
   "id": "8b887fc4",
   "metadata": {},
   "outputs": [],
   "source": [
    "# Vamos atribuir a coluna de mês à variável chamada exchange_rate\n",
    "exchange_rate = arr_strings[:,0]"
   ]
  },
  {
   "cell_type": "code",
   "execution_count": 825,
   "id": "b332fb8c",
   "metadata": {},
   "outputs": [
    {
     "data": {
      "text/plain": [
       "array([ 5,  0,  9, ...,  6,  4, 12])"
      ]
     },
     "execution_count": 825,
     "metadata": {},
     "output_type": "execute_result"
    }
   ],
   "source": [
    "exchange_rate"
   ]
  },
  {
   "cell_type": "code",
   "execution_count": 826,
   "id": "84453f3b",
   "metadata": {},
   "outputs": [],
   "source": [
    "# Loop para preencher a variável exchange_rate com a taxa correspondente ao mês\n",
    "# Usamos dados_cot[i - 1] devido a forma como carregamos os meses para comportar o zero\n",
    "for i in range(1,13):\n",
    "    exchange_rate = np.where(exchange_rate == i, dados_cot[i - 1], exchange_rate) "
   ]
  },
  {
   "cell_type": "code",
   "execution_count": 827,
   "id": "12b84207",
   "metadata": {},
   "outputs": [
    {
     "data": {
      "text/plain": [
       "array([1.1 , 0.  , 1.13, ..., 1.12, 1.11, 1.09])"
      ]
     },
     "execution_count": 827,
     "metadata": {},
     "output_type": "execute_result"
    }
   ],
   "source": [
    "exchange_rate"
   ]
  },
  {
   "cell_type": "code",
   "execution_count": 828,
   "id": "39ffa686",
   "metadata": {},
   "outputs": [],
   "source": [
    "# Onde a taxa de câmbio estiver com zero substituímos pela média\n",
    "exchange_rate = np.where(exchange_rate == 0, np.mean(dados_cot), exchange_rate)"
   ]
  },
  {
   "cell_type": "code",
   "execution_count": 829,
   "id": "8a99a3a5",
   "metadata": {},
   "outputs": [
    {
     "data": {
      "text/plain": [
       "array([1.1 , 1.11, 1.13, ..., 1.12, 1.11, 1.09])"
      ]
     },
     "execution_count": 829,
     "metadata": {},
     "output_type": "execute_result"
    }
   ],
   "source": [
    "exchange_rate"
   ]
  },
  {
   "cell_type": "code",
   "execution_count": 830,
   "id": "e490db89",
   "metadata": {},
   "outputs": [
    {
     "data": {
      "text/plain": [
       "(10000,)"
      ]
     },
     "execution_count": 830,
     "metadata": {},
     "output_type": "execute_result"
    }
   ],
   "source": [
    "exchange_rate.shape"
   ]
  },
  {
   "cell_type": "code",
   "execution_count": 831,
   "id": "ed6b5280",
   "metadata": {},
   "outputs": [
    {
     "data": {
      "text/plain": [
       "(10000, 6)"
      ]
     },
     "execution_count": 831,
     "metadata": {},
     "output_type": "execute_result"
    }
   ],
   "source": [
    "arr_numeric.shape"
   ]
  },
  {
   "cell_type": "code",
   "execution_count": 832,
   "id": "878523b6",
   "metadata": {},
   "outputs": [],
   "source": [
    "exchange_rate = np.reshape(exchange_rate, (10000,1))"
   ]
  },
  {
   "cell_type": "code",
   "execution_count": 833,
   "id": "2cf5b4f2",
   "metadata": {},
   "outputs": [],
   "source": [
    "# Concatenação dos arrays\n",
    "arr_numeric = np.hstack((arr_numeric, exchange_rate))"
   ]
  },
  {
   "cell_type": "code",
   "execution_count": 834,
   "id": "243ebfcc",
   "metadata": {},
   "outputs": [],
   "source": [
    "# Inclui o nome da coluna no array de nomes de colunas\n",
    "header_numeric = np.concatenate((header_numeric, np.array(['exchange_rate'])))"
   ]
  },
  {
   "cell_type": "code",
   "execution_count": 835,
   "id": "0a8d4392",
   "metadata": {},
   "outputs": [
    {
     "data": {
      "text/plain": [
       "array(['id', 'loan_amnt', 'funded_amnt', 'int_rate', 'installment', 'total_pymnt', 'exchange_rate'], dtype='<U19')"
      ]
     },
     "execution_count": 835,
     "metadata": {},
     "output_type": "execute_result"
    }
   ],
   "source": [
    "header_numeric"
   ]
  },
  {
   "cell_type": "markdown",
   "id": "5a59ea87",
   "metadata": {},
   "source": [
    "## Criando colunas para as taxas de câmbio em USD e EURO."
   ]
  },
  {
   "cell_type": "code",
   "execution_count": 836,
   "id": "ec85380e",
   "metadata": {},
   "outputs": [],
   "source": [
    "# Colunas em USD\n",
    "columns_dollar = np.array([1,2,4,5])"
   ]
  },
  {
   "cell_type": "code",
   "execution_count": 837,
   "id": "47bb6334",
   "metadata": {},
   "outputs": [
    {
     "data": {
      "text/plain": [
       "array([1.1 , 1.11, 1.13, ..., 1.12, 1.11, 1.09])"
      ]
     },
     "execution_count": 837,
     "metadata": {},
     "output_type": "execute_result"
    }
   ],
   "source": [
    "# Visualização\n",
    "arr_numeric[:, 6]"
   ]
  },
  {
   "cell_type": "code",
   "execution_count": 839,
   "id": "1c938f64",
   "metadata": {},
   "outputs": [
    {
     "data": {
      "text/plain": [
       "(10000, 7)"
      ]
     },
     "execution_count": 839,
     "metadata": {},
     "output_type": "execute_result"
    }
   ],
   "source": [
    "# Shape\n",
    "arr_numeric.shape"
   ]
  },
  {
   "cell_type": "code",
   "execution_count": 840,
   "id": "37c885a9",
   "metadata": {},
   "outputs": [],
   "source": [
    "# Loop pelas colunas USD para aplicar a taxa de conversão para EURO\n",
    "for i in columns_dollar:\n",
    "    arr_numeric = np.hstack((arr_numeric, np.reshape(arr_numeric[:,i] / arr_numeric[:,6], (10000,1))))"
   ]
  },
  {
   "cell_type": "code",
   "execution_count": 841,
   "id": "3a101b4b",
   "metadata": {},
   "outputs": [
    {
     "data": {
      "text/plain": [
       "(10000, 11)"
      ]
     },
     "execution_count": 841,
     "metadata": {},
     "output_type": "execute_result"
    }
   ],
   "source": [
    "arr_numeric.shape"
   ]
  },
  {
   "cell_type": "code",
   "execution_count": 842,
   "id": "95665a4d",
   "metadata": {},
   "outputs": [
    {
     "data": {
      "text/plain": [
       "array([[48010226.  ,    35000.  ,     1000.  , ...,      912.38,     1251.79,    38240.58],\n",
       "       [57693261.  ,    35000.  ,     1000.  , ...,      904.42,     1240.86,    37906.76],\n",
       "       [59432726.  ,    35000.  ,     1000.  , ...,      888.42,     1218.91,    37236.35],\n",
       "       ...,\n",
       "       [50415990.  ,    35000.  ,     1000.  , ...,      891.03,     1222.49,    37345.74],\n",
       "       [46154151.  ,    35000.  ,     1000.  , ...,      899.74,     1234.44,    37710.8 ],\n",
       "       [66055249.  ,    35000.  ,     1000.  , ...,      914.58,     1254.8 ,    38332.79]])"
      ]
     },
     "execution_count": 842,
     "metadata": {},
     "output_type": "execute_result"
    }
   ],
   "source": [
    "# Visualização\n",
    "arr_numeric"
   ]
  },
  {
   "cell_type": "markdown",
   "id": "08f04e20",
   "metadata": {},
   "source": [
    "## Expandindo o cabeçalho com as novas colunas."
   ]
  },
  {
   "cell_type": "code",
   "execution_count": 843,
   "id": "e5573c7d",
   "metadata": {},
   "outputs": [],
   "source": [
    "header_additional = np.array([column_name + '_EUR' for column_name in header_numeric[columns_dollar]])"
   ]
  },
  {
   "cell_type": "code",
   "execution_count": 844,
   "id": "dc842fe7",
   "metadata": {},
   "outputs": [
    {
     "data": {
      "text/plain": [
       "array(['loan_amnt_EUR', 'funded_amnt_EUR', 'installment_EUR', 'total_pymnt_EUR'], dtype='<U15')"
      ]
     },
     "execution_count": 844,
     "metadata": {},
     "output_type": "execute_result"
    }
   ],
   "source": [
    "header_additional"
   ]
  },
  {
   "cell_type": "code",
   "execution_count": 845,
   "id": "d8666614",
   "metadata": {},
   "outputs": [],
   "source": [
    "header_numeric = np.concatenate((header_numeric, header_additional))"
   ]
  },
  {
   "cell_type": "code",
   "execution_count": 846,
   "id": "67502757",
   "metadata": {},
   "outputs": [
    {
     "data": {
      "text/plain": [
       "array(['id', 'loan_amnt', 'funded_amnt', 'int_rate', 'installment', 'total_pymnt', 'exchange_rate', 'loan_amnt_EUR', 'funded_amnt_EUR', 'installment_EUR', 'total_pymnt_EUR'], dtype='<U19')"
      ]
     },
     "execution_count": 846,
     "metadata": {},
     "output_type": "execute_result"
    }
   ],
   "source": [
    "header_numeric"
   ]
  },
  {
   "cell_type": "code",
   "execution_count": 847,
   "id": "6962a9fb",
   "metadata": {},
   "outputs": [],
   "source": [
    "header_numeric[columns_dollar] = np.array([column_name + '_USD' for column_name in header_numeric[columns_dollar]])"
   ]
  },
  {
   "cell_type": "code",
   "execution_count": 848,
   "id": "f07387cf",
   "metadata": {},
   "outputs": [
    {
     "data": {
      "text/plain": [
       "array(['id', 'loan_amnt_USD', 'funded_amnt_USD', 'int_rate', 'installment_USD', 'total_pymnt_USD', 'exchange_rate', 'loan_amnt_EUR', 'funded_amnt_EUR', 'installment_EUR', 'total_pymnt_EUR'],\n",
       "      dtype='<U19')"
      ]
     },
     "execution_count": 848,
     "metadata": {},
     "output_type": "execute_result"
    }
   ],
   "source": [
    "header_numeric"
   ]
  },
  {
   "cell_type": "code",
   "execution_count": 849,
   "id": "a9cecda9",
   "metadata": {},
   "outputs": [],
   "source": [
    "columns_index_order = [0,1,7,2,8,3,4,9,5,10,6]"
   ]
  },
  {
   "cell_type": "code",
   "execution_count": 850,
   "id": "a0165035",
   "metadata": {},
   "outputs": [],
   "source": [
    "header_numeric = header_numeric[columns_index_order]"
   ]
  },
  {
   "cell_type": "code",
   "execution_count": 851,
   "id": "bd881563",
   "metadata": {},
   "outputs": [],
   "source": [
    "arr_numeric = arr_numeric[:,columns_index_order]"
   ]
  },
  {
   "cell_type": "markdown",
   "id": "2b4fe726",
   "metadata": {},
   "source": [
    "# Pré-Processamento da Variável int_rate"
   ]
  },
  {
   "cell_type": "code",
   "execution_count": 852,
   "id": "94bb2384",
   "metadata": {},
   "outputs": [
    {
     "data": {
      "text/plain": [
       "array(['id', 'loan_amnt_USD', 'loan_amnt_EUR', 'funded_amnt_USD', 'funded_amnt_EUR', 'int_rate', 'installment_USD', 'installment_EUR', 'total_pymnt_USD', 'total_pymnt_EUR', 'exchange_rate'],\n",
       "      dtype='<U19')"
      ]
     },
     "execution_count": 852,
     "metadata": {},
     "output_type": "execute_result"
    }
   ],
   "source": [
    "header_numeric"
   ]
  },
  {
   "cell_type": "code",
   "execution_count": 853,
   "id": "b228b978",
   "metadata": {},
   "outputs": [
    {
     "data": {
      "text/plain": [
       "array([28., 28., 28., ..., 28., 28., 28.])"
      ]
     },
     "execution_count": 853,
     "metadata": {},
     "output_type": "execute_result"
    }
   ],
   "source": [
    "arr_numeric[:,5]"
   ]
  },
  {
   "cell_type": "code",
   "execution_count": 854,
   "id": "53b87f00",
   "metadata": {},
   "outputs": [],
   "source": [
    "# Vamos apenas dividir por 100\n",
    "arr_numeric[:,5] = arr_numeric[:,5] / 100"
   ]
  },
  {
   "cell_type": "code",
   "execution_count": 855,
   "id": "37ab17f5",
   "metadata": {},
   "outputs": [
    {
     "data": {
      "text/plain": [
       "array([0.28, 0.28, 0.28, ..., 0.28, 0.28, 0.28])"
      ]
     },
     "execution_count": 855,
     "metadata": {},
     "output_type": "execute_result"
    }
   ],
   "source": [
    "arr_numeric[:,5]"
   ]
  },
  {
   "cell_type": "markdown",
   "id": "884176a6",
   "metadata": {},
   "source": [
    "# Checkpoint com variáveis numéricas limpas e pré-processadas"
   ]
  },
  {
   "cell_type": "code",
   "execution_count": 856,
   "id": "0a2f56fe",
   "metadata": {},
   "outputs": [],
   "source": [
    "checkpoint_numeric = checkpoint(\"Checkpoint-Numeric\", header_numeric, arr_numeric)"
   ]
  },
  {
   "cell_type": "code",
   "execution_count": 857,
   "id": "524ec172",
   "metadata": {},
   "outputs": [
    {
     "data": {
      "text/plain": [
       "(array(['id', 'loan_amnt_USD', 'loan_amnt_EUR', 'funded_amnt_USD', 'funded_amnt_EUR', 'int_rate', 'installment_USD', 'installment_EUR', 'total_pymnt_USD', 'total_pymnt_EUR', 'exchange_rate'],\n",
       "       dtype='<U19'),\n",
       " array([[48010226.  ,    35000.  ,    31933.3 , ...,    41913.  ,    38240.58,        1.1 ],\n",
       "        [57693261.  ,    35000.  ,    31654.54, ...,    41913.  ,    37906.76,        1.11],\n",
       "        [59432726.  ,    35000.  ,    31094.7 , ...,    41913.  ,    37236.35,        1.13],\n",
       "        ...,\n",
       "        [50415990.  ,    35000.  ,    31186.05, ...,    41913.  ,    37345.74,        1.12],\n",
       "        [46154151.  ,    35000.  ,    31490.9 , ...,    41913.  ,    37710.8 ,        1.11],\n",
       "        [66055249.  ,    35000.  ,    32010.3 , ...,    41913.  ,    38332.79,        1.09]]))"
      ]
     },
     "execution_count": 857,
     "metadata": {},
     "output_type": "execute_result"
    }
   ],
   "source": [
    "checkpoint_numeric['header'], checkpoint_numeric['data']"
   ]
  },
  {
   "cell_type": "markdown",
   "id": "843c6331",
   "metadata": {},
   "source": [
    "# Construindo o Dataset Final"
   ]
  },
  {
   "cell_type": "code",
   "execution_count": 858,
   "id": "b2f16bd9",
   "metadata": {},
   "outputs": [
    {
     "data": {
      "text/plain": [
       "(10000, 6)"
      ]
     },
     "execution_count": 858,
     "metadata": {},
     "output_type": "execute_result"
    }
   ],
   "source": [
    "checkpoint_strings['data'].shape"
   ]
  },
  {
   "cell_type": "code",
   "execution_count": 859,
   "id": "36cff29b",
   "metadata": {},
   "outputs": [
    {
     "data": {
      "text/plain": [
       "(10000, 11)"
      ]
     },
     "execution_count": 859,
     "metadata": {},
     "output_type": "execute_result"
    }
   ],
   "source": [
    "checkpoint_numeric['data'].shape"
   ]
  },
  {
   "cell_type": "code",
   "execution_count": 860,
   "id": "c73e8383",
   "metadata": {},
   "outputs": [],
   "source": [
    "# Concatena os arrays\n",
    "df_final = np.hstack((checkpoint_numeric['data'], checkpoint_strings['data']))"
   ]
  },
  {
   "cell_type": "code",
   "execution_count": 861,
   "id": "fc0fc24c",
   "metadata": {},
   "outputs": [
    {
     "data": {
      "text/plain": [
       "array([[48010226.  ,    35000.  ,    31933.3 , ...,       13.  ,        1.  ,        1.  ],\n",
       "       [57693261.  ,    35000.  ,    31654.54, ...,        5.  ,        1.  ,        4.  ],\n",
       "       [59432726.  ,    35000.  ,    31094.7 , ...,       10.  ,        1.  ,        4.  ],\n",
       "       ...,\n",
       "       [50415990.  ,    35000.  ,    31186.05, ...,        5.  ,        1.  ,        1.  ],\n",
       "       [46154151.  ,    35000.  ,    31490.9 , ...,       17.  ,        1.  ,        3.  ],\n",
       "       [66055249.  ,    35000.  ,    32010.3 , ...,        4.  ,        0.  ,        3.  ]])"
      ]
     },
     "execution_count": 861,
     "metadata": {},
     "output_type": "execute_result"
    }
   ],
   "source": [
    "df_final"
   ]
  },
  {
   "cell_type": "code",
   "execution_count": 862,
   "id": "307abc37",
   "metadata": {},
   "outputs": [
    {
     "data": {
      "text/plain": [
       "0"
      ]
     },
     "execution_count": 862,
     "metadata": {},
     "output_type": "execute_result"
    }
   ],
   "source": [
    "# Verifica se tem valor ausente\n",
    "np.isnan(df_final).sum()"
   ]
  },
  {
   "cell_type": "code",
   "execution_count": 863,
   "id": "9807f465",
   "metadata": {},
   "outputs": [],
   "source": [
    "# Concatena os arrays de nomes de colunas\n",
    "header_full = np.concatenate((checkpoint_numeric['header'], checkpoint_strings['header']))"
   ]
  },
  {
   "cell_type": "code",
   "execution_count": 864,
   "id": "24e601b8",
   "metadata": {},
   "outputs": [],
   "source": [
    "# Ordenando o dataset\n",
    "df_final = df_final[np.argsort(df_final[:,0])]"
   ]
  },
  {
   "cell_type": "code",
   "execution_count": 865,
   "id": "88c17e23",
   "metadata": {},
   "outputs": [
    {
     "data": {
      "text/plain": [
       "array([[  373332.  ,    35000.  ,    31792.25, ...,       21.  ,        0.  ,        1.  ],\n",
       "       [  575239.  ,    35000.  ,    31792.25, ...,       25.  ,        1.  ,        2.  ],\n",
       "       [  707689.  ,    35000.  ,    31235.05, ...,       13.  ,        1.  ,        0.  ],\n",
       "       ...,\n",
       "       [68614880.  ,    35000.  ,    32010.3 , ...,        8.  ,        1.  ,        1.  ],\n",
       "       [68615915.  ,    35000.  ,    32010.3 , ...,       10.  ,        1.  ,        2.  ],\n",
       "       [68616519.  ,    35000.  ,    32010.3 , ...,        3.  ,        0.  ,        2.  ]])"
      ]
     },
     "execution_count": 865,
     "metadata": {},
     "output_type": "execute_result"
    }
   ],
   "source": [
    "df_final"
   ]
  },
  {
   "cell_type": "code",
   "execution_count": 866,
   "id": "39548ebf",
   "metadata": {},
   "outputs": [
    {
     "data": {
      "text/plain": [
       "array([   0,    1,    2, ..., 9997, 9998, 9999])"
      ]
     },
     "execution_count": 866,
     "metadata": {},
     "output_type": "execute_result"
    }
   ],
   "source": [
    "# Conferindo a ordenação da coluna 0\n",
    "np.argsort(df_final[:,0])"
   ]
  },
  {
   "cell_type": "markdown",
   "id": "4332e40f",
   "metadata": {},
   "source": [
    "# Gravando o Dataset Final Limpo e Pré-Processado"
   ]
  },
  {
   "cell_type": "code",
   "execution_count": 867,
   "id": "185063a8",
   "metadata": {},
   "outputs": [],
   "source": [
    "# Concatena o array de nomes de colunas com o array de dados\n",
    "df_final = np.vstack((header_full, df_final))"
   ]
  },
  {
   "cell_type": "code",
   "execution_count": 869,
   "id": "a0407e95",
   "metadata": {},
   "outputs": [],
   "source": [
    "# Salva em disco\n",
    "np.savetxt(\"dataset_limpo_preprocessado.csv\", \n",
    "           df_final, \n",
    "           fmt = '%s',\n",
    "           delimiter = ',')"
   ]
  },
  {
   "cell_type": "markdown",
   "id": "82c53a8a",
   "metadata": {},
   "source": [
    "# FIM"
   ]
  }
 ],
 "metadata": {
  "kernelspec": {
   "display_name": "Python 3 (ipykernel)",
   "language": "python",
   "name": "python3"
  },
  "language_info": {
   "codemirror_mode": {
    "name": "ipython",
    "version": 3
   },
   "file_extension": ".py",
   "mimetype": "text/x-python",
   "name": "python",
   "nbconvert_exporter": "python",
   "pygments_lexer": "ipython3",
   "version": "3.9.2"
  }
 },
 "nbformat": 4,
 "nbformat_minor": 5
}
